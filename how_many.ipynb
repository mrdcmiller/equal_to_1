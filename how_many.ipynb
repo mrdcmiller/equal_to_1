def how_many_1():
    count = 0
    for number in [1,2,3,'hello',1,'world',6,7, 1, 1, 1,]:
        if number == 1: 
            count += 1
        #print(number)
    return(count)

how_many_1() 
